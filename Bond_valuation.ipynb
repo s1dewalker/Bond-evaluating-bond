{
 "cells": [
  {
   "cell_type": "markdown",
   "id": "525e4d14-5dd2-4857-9b37-d7409ca2e874",
   "metadata": {},
   "source": [
    "# Bond valuations"
   ]
  },
  {
   "cell_type": "markdown",
   "id": "b583ef49-39b0-4bfd-b3c8-2e5a4e27921a",
   "metadata": {},
   "source": [
    "## Time Value of Money"
   ]
  },
  {
   "cell_type": "code",
   "execution_count": 3,
   "id": "8b40911f-9b94-4601-91ea-5608e7e38221",
   "metadata": {},
   "outputs": [
    {
     "name": "stdout",
     "output_type": "stream",
     "text": [
      "Requirement already satisfied: numpy-financial in d:\\users\\sujay\\lib\\site-packages (1.0.0)\n",
      "Requirement already satisfied: numpy>=1.15 in d:\\users\\sujay\\lib\\site-packages (from numpy-financial) (1.26.4)\n",
      "Note: you may need to restart the kernel to use updated packages.\n"
     ]
    }
   ],
   "source": [
    "pip install numpy-financial"
   ]
  },
  {
   "cell_type": "code",
   "execution_count": 4,
   "id": "91fd4337-9e62-4ed5-93f5-7af25046e477",
   "metadata": {},
   "outputs": [],
   "source": [
    "# Import numpy_financial package using the alias npf\n",
    "import numpy_financial as npf"
   ]
  },
  {
   "cell_type": "markdown",
   "id": "62479666-e8b4-4b8b-9b33-fb77f31505cc",
   "metadata": {},
   "source": [
    "*pmt* and *pv* = -ve if we are investing (money going from out savings account) cahflow out | sign = direction of cashflow <br/>\n",
    "*nper* multiply 12 if compounded monthly <br/>\n",
    "*rate* divide by 12 if compounded monthly <br/>"
   ]
  },
  {
   "cell_type": "markdown",
   "id": "26c27ed2-363d-4a11-8265-0a93c702a9dc",
   "metadata": {},
   "source": [
    "**Calculate the future value of an investment of USD 10,000 with top-ups of USD 5,000 each year for 30 years earning 5% annual interest and assign the result to savings**"
   ]
  },
  {
   "cell_type": "code",
   "execution_count": 7,
   "id": "0e5a61e1-d509-4591-a75a-22e4b3a3c0e4",
   "metadata": {},
   "outputs": [
    {
     "name": "stdout",
     "output_type": "stream",
     "text": [
      "375413.6612665734\n"
     ]
    }
   ],
   "source": [
    "# Calculate the future value of an investment\n",
    "savings = npf.fv(rate=0.05, nper=30, pmt=-5000, pv=-10000)\n",
    "\n",
    "# Print the result\n",
    "print(savings)"
   ]
  },
  {
   "cell_type": "markdown",
   "id": "cf3e77b1-911c-48ea-b914-ad629fa1720a",
   "metadata": {},
   "source": [
    "**How long will it take you to save USD 30,000 if you save USD 1,250 per quarter invested in a fund that offers 4.5% annual returns compounded quarterly?**"
   ]
  },
  {
   "cell_type": "code",
   "execution_count": 9,
   "id": "481e4acb-5c64-43b8-b560-b60e1bf35553",
   "metadata": {},
   "outputs": [
    {
     "name": "stdout",
     "output_type": "stream",
     "text": [
      "21.365232331911212\n"
     ]
    }
   ],
   "source": [
    "# Calculate how long it will take to reach the savings goal\n",
    "number_periods = npf.nper(fv=30000,rate=0.045/4,pv=0,pmt=-1250)\n",
    "\n",
    "# Print the result\n",
    "print(number_periods)"
   ]
  },
  {
   "cell_type": "markdown",
   "id": "d9c91ebb-067a-46ad-9bfe-50e31efcf8f4",
   "metadata": {},
   "source": [
    "**To pay off a mortgage of USD 275,000 in ten years with an annual interest rate of 3.5% compounded monthly, you needed to pay USD 2,719 per month. How much in 20 years?**"
   ]
  },
  {
   "cell_type": "code",
   "execution_count": 11,
   "id": "65610976-bc17-47ec-8e9b-4ac4657880d0",
   "metadata": {},
   "outputs": [
    {
     "name": "stdout",
     "output_type": "stream",
     "text": [
      "-1594.8892244535023\n"
     ]
    }
   ],
   "source": [
    "# Calculate monthly payment required\n",
    "required_payment = npf.pmt(pv=275000, fv = 0, nper = 20*12, rate = 0.035/12)\n",
    "\n",
    "# Print the result\n",
    "print(required_payment)"
   ]
  },
  {
   "cell_type": "markdown",
   "id": "5f011867-ada5-445d-8088-7aa23f29a6eb",
   "metadata": {},
   "source": [
    "payments dropped only by around 40% instead of by half, this is because the relationship isn't linear"
   ]
  },
  {
   "cell_type": "markdown",
   "id": "47d4847f-233c-496f-9978-93089c2f5b6f",
   "metadata": {},
   "source": [
    "**Find how much a USD 100 per month investment at a 3% annual rate compounded monthly grows to after 5 years.**"
   ]
  },
  {
   "cell_type": "code",
   "execution_count": 14,
   "id": "ffa033ec-772b-442b-8a29-0eac10292466",
   "metadata": {},
   "outputs": [
    {
     "name": "stdout",
     "output_type": "stream",
     "text": [
      "6464.67126221082\n"
     ]
    }
   ],
   "source": [
    "# Calculate how much USD 100 per month compounding at 3% grows to after 5 years\n",
    "total_savings = npf.fv(rate=0.03/12, nper=5*12, pmt=-100, pv=0)\n",
    "print(total_savings)"
   ]
  },
  {
   "cell_type": "markdown",
   "id": "ac994f52-a437-4e77-b4e9-a8e3e79aa53a",
   "metadata": {},
   "source": [
    "**Find the time to save USD 15,000 starting with USD 5,000 and adding USD 250 per month at 5% interest compounded monthly.**"
   ]
  },
  {
   "cell_type": "code",
   "execution_count": 16,
   "id": "17819686-1ae0-4736-b058-7b8afc44f117",
   "metadata": {},
   "outputs": [
    {
     "name": "stdout",
     "output_type": "stream",
     "text": [
      "34.41570331103298\n"
     ]
    }
   ],
   "source": [
    "# Calculate the time to reach a USD 15,000 deposit on a house\n",
    "time_to_goal = npf.nper(rate=0.05/12, pmt=-250, pv=-5000, fv=15000)\n",
    "print(time_to_goal)"
   ]
  },
  {
   "cell_type": "markdown",
   "id": "ea0cc0ec-36ab-4b72-bd40-10803e18de3a",
   "metadata": {},
   "source": [
    "**You are 22 years old and want to retire at 65 with USD 1 million in the bank. If you can grow your money at 5% per year, how much should you invest per month?**"
   ]
  },
  {
   "cell_type": "code",
   "execution_count": 18,
   "id": "dfd53976-ea3c-4bea-8bad-053c950790b0",
   "metadata": {},
   "outputs": [
    {
     "name": "stdout",
     "output_type": "stream",
     "text": [
      "-552.1252103174048\n"
     ]
    }
   ],
   "source": [
    "# Calculate the monthly contributions needed to retire with USD 1,000,000\n",
    "monthly_contributions = npf.pmt(rate=0.05/12, nper=(65-22)*12, pv=0, fv=1000000)\n",
    "print(monthly_contributions)"
   ]
  },
  {
   "cell_type": "markdown",
   "id": "9cacc4a4-584a-4442-a27f-fc2cef71aea8",
   "metadata": {},
   "source": [
    "## Bond Prices & Yields"
   ]
  },
  {
   "cell_type": "markdown",
   "id": "6bfc55b3-cbd1-4f54-ad3b-eb52e1acfe81",
   "metadata": {},
   "source": [
    "#### Present value & zero coupon bonds"
   ]
  },
  {
   "cell_type": "code",
   "execution_count": 21,
   "id": "6160cc1a-742d-4d35-be86-45406b984321",
   "metadata": {},
   "outputs": [
    {
     "name": "stdout",
     "output_type": "stream",
     "text": [
      "3% Annual Interest:  1350.6316084299328\n"
     ]
    }
   ],
   "source": [
    "# Calculate the upfront investment at 3% interest\n",
    "pv_three_percent = -npf.pv(pmt = -100, fv = 11000, nper = 7*12, rate = 0.03/12)\n",
    "\n",
    "# Print the result\n",
    "print(\"3% Annual Interest: \", pv_three_percent)"
   ]
  },
  {
   "cell_type": "code",
   "execution_count": 22,
   "id": "cf13e1f3-072f-4eaa-a15a-db2c6f9df52f",
   "metadata": {},
   "outputs": [
    {
     "name": "stdout",
     "output_type": "stream",
     "text": [
      "5% Annual Interest:  682.0240889199054\n"
     ]
    }
   ],
   "source": [
    "# Calculate the upfront investment at 5% interest\n",
    "pv_five_percent = -npf.pv(pmt = -100, fv = 11000, nper = 7*12, rate = 0.05/12)\n",
    "\n",
    "# Print the result\n",
    "print(\"5% Annual Interest: \", pv_five_percent)"
   ]
  },
  {
   "cell_type": "markdown",
   "id": "03a69fe4-1dc2-4e4c-ba19-b3017b23380b",
   "metadata": {},
   "source": [
    "Notice that increasing the interest rate from 3% to 5% reduced amount you needed to invest upfront to achieve your goal by a third. This is a good illustration of how powerful compounding over time can be!"
   ]
  },
  {
   "cell_type": "code",
   "execution_count": 24,
   "id": "7eb0db0a-dc99-4975-926b-3798061857e5",
   "metadata": {},
   "outputs": [
    {
     "name": "stdout",
     "output_type": "stream",
     "text": [
      "3 year 5% yield ZCB:  86.3837598531476\n"
     ]
    }
   ],
   "source": [
    "# Calculate price of a 3 year 5% yield zero coupon bond\n",
    "price_1 = 100/(1+0.05)**3\n",
    "\n",
    "# Print the result\n",
    "print(\"3 year 5% yield ZCB: \", price_1)"
   ]
  },
  {
   "cell_type": "code",
   "execution_count": 25,
   "id": "fdbe5284-743b-4de0-9967-453076e51841",
   "metadata": {},
   "outputs": [
    {
     "name": "stdout",
     "output_type": "stream",
     "text": [
      "10 year 5% yield ZCB:  61.39132535407592\n"
     ]
    }
   ],
   "source": [
    "# Calculate price of a 10 year 5% yield zero coupon bond\n",
    "price_2 = 100/(1+0.05)**10\n",
    "\n",
    "# Print the result\n",
    "print(\"10 year 5% yield ZCB: \", price_2)"
   ]
  },
  {
   "cell_type": "code",
   "execution_count": 26,
   "id": "d29fc409-7986-40bb-a8f5-d766c7d7d736",
   "metadata": {},
   "outputs": [
    {
     "name": "stdout",
     "output_type": "stream",
     "text": [
      "3 year 7% yield ZCB:  81.62978768908519\n"
     ]
    }
   ],
   "source": [
    "# Calculate price of a 3 year 7% yield zero coupon bond\n",
    "price_3 = 100/(1+0.07)**3\n",
    "\n",
    "# Print the result\n",
    "print(\"3 year 7% yield ZCB: \", price_3)"
   ]
  },
  {
   "cell_type": "markdown",
   "id": "d184bf93-82fc-4c8c-8350-e6f816bb850a",
   "metadata": {},
   "source": [
    "Increasing either the time to maturity or yield means we are applying more discounting to the single cash-flow (face value), giving it a lower PV and hence a lower price for the zero coupon bond."
   ]
  },
  {
   "cell_type": "markdown",
   "id": "b808fe49-c100-426e-be9a-c13f7aa1ea94",
   "metadata": {},
   "source": [
    "#### Coupon paying bonds"
   ]
  },
  {
   "cell_type": "code",
   "execution_count": 29,
   "id": "a503dbbe-9afd-4861-b590-7b5a1f4c75ec",
   "metadata": {},
   "outputs": [
    {
     "name": "stdout",
     "output_type": "stream",
     "text": [
      "4% Yield Price:  91.88910422064497\n"
     ]
    }
   ],
   "source": [
    "# Find the price of a 10 year bond with 3% coupon and 4% yield\n",
    "bond_yield_4 = -npf.pv(rate=0.04, nper=10, pmt=3, fv=100)\n",
    "\n",
    "# Print the result\n",
    "print(\"4% Yield Price: \", bond_yield_4)"
   ]
  },
  {
   "cell_type": "code",
   "execution_count": 30,
   "id": "70a0e463-dfd5-41a8-969a-25b63a2365c6",
   "metadata": {},
   "outputs": [
    {
     "name": "stdout",
     "output_type": "stream",
     "text": [
      "3% Yield Price:  100.0\n"
     ]
    }
   ],
   "source": [
    "# Find the price of a 10 year bond with 3% coupon and 3% yield\n",
    "bond_yield_3 = -npf.pv(rate=0.03, nper=10, pmt=3, fv=100)\n",
    "\n",
    "# Print the result\n",
    "print(\"3% Yield Price: \", bond_yield_3)"
   ]
  },
  {
   "cell_type": "code",
   "execution_count": 31,
   "id": "7ed3859b-c439-4cf3-b5cd-231e0b6a3eb3",
   "metadata": {},
   "outputs": [
    {
     "name": "stdout",
     "output_type": "stream",
     "text": [
      "5% Yield Price:  84.55653014163036\n"
     ]
    }
   ],
   "source": [
    "# Find the price of a 10 year bond with 3% coupon and 5% yield\n",
    "bond_yield_5 = -npf.pv(rate=0.05, nper=10, pmt=3, fv=100)\n",
    "\n",
    "# Print the result\n",
    "print(\"5% Yield Price: \", bond_yield_5)"
   ]
  },
  {
   "cell_type": "markdown",
   "id": "637bfd02-dceb-4b0c-9998-f98a0a2ba1b0",
   "metadata": {},
   "source": [
    "**when interest rates are higher**, we discount the cash-flows of a bond at a higher rate, meaning their **PV will be lower**. As a bond is just the sum of the PV of each cash-flow, this means the **bond price will be lower when interest rates are higher**, and vice versa."
   ]
  },
  {
   "cell_type": "code",
   "execution_count": 33,
   "id": "6685b57c-92c6-445f-a4e6-226dc578fe2c",
   "metadata": {},
   "outputs": [
    {
     "name": "stdout",
     "output_type": "stream",
     "text": [
      "2% Coupon Price:  83.77820844128993\n"
     ]
    }
   ],
   "source": [
    "# Find the price of a 10 year bond with 2% coupon and 4% yield\n",
    "bond_coupon_2 = -npf.pv(rate=0.04, nper=10, pmt=2, fv=100)\n",
    "\n",
    "# Print the result\n",
    "print(\"2% Coupon Price: \", bond_coupon_2)"
   ]
  },
  {
   "cell_type": "code",
   "execution_count": 34,
   "id": "51ab3da0-a96a-4c35-8c0b-5a3f8f8b2984",
   "metadata": {},
   "outputs": [
    {
     "name": "stdout",
     "output_type": "stream",
     "text": [
      "5% Coupon Price:  108.11089577935503\n"
     ]
    }
   ],
   "source": [
    "# Find the price of a 10 year bond with 5% coupon and 4% yield\n",
    "bond_coupon_5 = -npf.pv(rate=0.04, nper=10, pmt=5, fv=100)\n",
    "\n",
    "# Print the result\n",
    "print(\"5% Coupon Price: \", bond_coupon_5)"
   ]
  },
  {
   "cell_type": "code",
   "execution_count": 35,
   "id": "0eec5c18-8c05-41ad-bf78-67178b228bec",
   "metadata": {},
   "outputs": [
    {
     "name": "stdout",
     "output_type": "stream",
     "text": [
      "10% Coupon Price:  148.6653746761302\n"
     ]
    }
   ],
   "source": [
    "# Find the price of a 10 year bond with 10% coupon and 4% yield\n",
    "bond_coupon_10 = -npf.pv(rate=0.04, nper=10, pmt=10, fv=100)\n",
    "\n",
    "# Print the result\n",
    "print(\"10% Coupon Price: \", bond_coupon_10)"
   ]
  },
  {
   "cell_type": "markdown",
   "id": "a824eff9-3e09-488a-b16d-7265cf3c3096",
   "metadata": {},
   "source": [
    "**a higher coupon makes the bond more valuable makes sense**; if the bond pays you more money, it must be worth more!"
   ]
  },
  {
   "cell_type": "markdown",
   "id": "14ced596-f64d-4910-b154-95c7ea9b3b58",
   "metadata": {},
   "source": [
    "#### Plotting bond prices against yields"
   ]
  },
  {
   "cell_type": "code",
   "execution_count": 38,
   "id": "1585c9c6-7970-43cb-b078-34c6145b791c",
   "metadata": {},
   "outputs": [],
   "source": [
    "import matplotlib.pyplot as plt\n",
    "import pandas as pd\n",
    "import numpy as np"
   ]
  },
  {
   "cell_type": "code",
   "execution_count": 39,
   "id": "41f373bb-8574-4d6c-adc2-3af671760c6d",
   "metadata": {},
   "outputs": [
    {
     "data": {
      "image/png": "[encoded data removed]",
      "text/plain": [
       "<Figure size 640x480 with 1 Axes>"
      ]
     },
     "metadata": {},
     "output_type": "display_data"
    }
   ],
   "source": [
    "# Create an array of bond yields and convert to DataFrame\n",
    "bond_yields = np.arange(0.1, 20, 0.1)\n",
    "bond = pd.DataFrame(bond_yields, columns=['bond_yield'])\n",
    "\n",
    "# Add columns for different bonds\n",
    "bond['bond_price_5Y'] = -npf.pv(rate=bond['bond_yield'] / 100, nper=5, pmt=5, fv=100)\n",
    "bond['bond_price_10Y'] = -npf.pv(rate=bond['bond_yield'] / 100, nper=10, pmt=5, fv=100)\n",
    "\n",
    "# Plot graph of bonds\n",
    "plt.plot(bond['bond_yield'], bond['bond_price_5Y'], label='5 Year Bond')\n",
    "plt.plot(bond['bond_yield'], bond['bond_price_10Y'], label='10 Year Bond')\n",
    "plt.xlabel('Yield (%)')\n",
    "plt.ylabel('Bond Price (USD)')\n",
    "plt.legend()\n",
    "plt.show()"
   ]
  },
  {
   "cell_type": "markdown",
   "id": "f28c122d-c172-4c6b-9b6a-d8fe18e701b2",
   "metadata": {},
   "source": [
    "bond with the higher maturity is much more sensitive to changes in yield. "
   ]
  },
  {
   "cell_type": "markdown",
   "id": "64736d53-1f1f-4da1-90f6-e87536f196c3",
   "metadata": {},
   "source": [
    "### YTM"
   ]
  },
  {
   "cell_type": "markdown",
   "id": "42463ef1-41e4-49e4-8658-41ff9d77039f",
   "metadata": {},
   "source": [
    "**Find the yield of a 5 year zero coupon bond with a face value of USD 100 and price of USD 84.67.**"
   ]
  },
  {
   "cell_type": "code",
   "execution_count": 43,
   "id": "fce9be2d-b0e6-44d5-acaf-ca1bf5a57933",
   "metadata": {},
   "outputs": [
    {
     "name": "stdout",
     "output_type": "stream",
     "text": [
      "ZCB Price USD 84.67:  0.033841801397449967\n"
     ]
    }
   ],
   "source": [
    "# Find the first zero coupon bond yield\n",
    "bond_1 = (100 / 84.67) ** (1 / 5) - 1\n",
    "\n",
    "# Print the result\n",
    "print(\"ZCB Price USD 84.67: \", bond_1)"
   ]
  },
  {
   "cell_type": "markdown",
   "id": "d78a8428-8aa4-40b9-9d23-8c155ab4ca25",
   "metadata": {},
   "source": [
    "**Find the yield of a 5 year zero coupon bond with a face value of USD 100 and price of USD 78.22**"
   ]
  },
  {
   "cell_type": "code",
   "execution_count": 45,
   "id": "86a28682-1e05-4da2-83e5-8575aebd1f78",
   "metadata": {},
   "outputs": [
    {
     "name": "stdout",
     "output_type": "stream",
     "text": [
      "ZCB Price USD 78.22:  0.050355799389712574\n"
     ]
    }
   ],
   "source": [
    "# Find the second zero coupon bond yield\n",
    "bond_2 = (100/78.22)**(1/5)-1\n",
    "\n",
    "# Print the result\n",
    "print(\"ZCB Price USD 78.22: \", bond_2)"
   ]
  },
  {
   "cell_type": "markdown",
   "id": "be9931d7-1895-4588-b380-e0b06fa2ab82",
   "metadata": {},
   "source": [
    "**Find the yield of a three-year bond paying a 3% annual coupon with a price of USD 92.**"
   ]
  },
  {
   "cell_type": "code",
   "execution_count": 47,
   "id": "b814cbbd-6c4e-4421-892f-fb79321a1dd0",
   "metadata": {},
   "outputs": [
    {
     "name": "stdout",
     "output_type": "stream",
     "text": [
      "Bond A:  0.059924610559293524\n"
     ]
    }
   ],
   "source": [
    "# Bond with price of USD 92 paying 3% coupon for 3 years\n",
    "bond_a = npf.rate(pv=-92, fv = 100, pmt = 3, nper = 3 )\n",
    "print(\"Bond A: \", bond_a)"
   ]
  },
  {
   "cell_type": "markdown",
   "id": "92691a41-89a4-4275-8dd9-05ef12a93076",
   "metadata": {},
   "source": [
    "**Find the yield of a five-year bond paying a 6% annual coupon with a price of USD 102.**"
   ]
  },
  {
   "cell_type": "code",
   "execution_count": 49,
   "id": "bb3df961-bf56-42bc-aa36-931cadbfc779",
   "metadata": {},
   "outputs": [
    {
     "name": "stdout",
     "output_type": "stream",
     "text": [
      "Bond B:  0.05531245757227904\n"
     ]
    }
   ],
   "source": [
    "# Bond with price of USD 102 paying 6% coupon for 5 years\n",
    "bond_b = npf.rate(nper=5, pmt=6, pv=-102, fv=100)\n",
    "print(\"Bond B: \", bond_b)"
   ]
  },
  {
   "cell_type": "markdown",
   "id": "e74e27a8-cff7-4057-a2f5-86cd9ef61675",
   "metadata": {},
   "source": [
    "**Find the yield of a five-year bond paying a 3% annual coupon with a price of USD 95.**"
   ]
  },
  {
   "cell_type": "code",
   "execution_count": 51,
   "id": "6c7b0c5e-8a67-4d0e-9062-cbd23d4a36ea",
   "metadata": {},
   "outputs": [
    {
     "name": "stdout",
     "output_type": "stream",
     "text": [
      "Bond C:  0.041271503993442205\n"
     ]
    }
   ],
   "source": [
    "# Bond with price of USD 95 paying 3% coupon for 5 years\n",
    "bond_c = npf.rate(nper=5, pmt=3, pv=-95, fv=100)\n",
    "print(\"Bond C: \", bond_c)"
   ]
  },
  {
   "cell_type": "markdown",
   "id": "54473646-08ba-43af-b146-7c36a8d57e83",
   "metadata": {},
   "source": [
    "## Duration\n",
    "**Duration = % price change for 1% interest rate change** <br/>\n",
    "**Duration d.p. to maturity (years), i.p. to coupon rate (%) and ytm (%)**"
   ]
  },
  {
   "cell_type": "markdown",
   "id": "f602598c-41c2-4e06-b716-40701094a74f",
   "metadata": {},
   "source": [
    "**Find the duration of a 10 year zero coupon bond with a 3% yield, then print the result.**"
   ]
  },
  {
   "cell_type": "code",
   "execution_count": 54,
   "id": "99fe4f62-6581-4c17-9a06-4b7049a92258",
   "metadata": {},
   "outputs": [
    {
     "name": "stdout",
     "output_type": "stream",
     "text": [
      "Zero Coupon Bond Duration:  9.728888259316797\n"
     ]
    }
   ],
   "source": [
    "# Find the price of the zero coupon bond at current yield levels\n",
    "price = -npf.pv(rate=0.03, nper=10, pmt=0, fv=100)\n",
    "\n",
    "# Find the price of the zero coupon bond at 1% higher yield levels\n",
    "price_up = -npf.pv(rate=0.04, nper=10, pmt=0, fv=100)\n",
    "\n",
    "# Find the price of the zero coupon bond at 1% lower yield levels\n",
    "price_down = -npf.pv(rate=0.02, nper=10, pmt=0, fv=100)\n",
    "\n",
    "# Calculate duration using the formula and print result\n",
    "duration = (price_down - price_up) / (2 * price * 0.01)\n",
    "print(\"Zero Coupon Bond Duration: \", duration)"
   ]
  },
  {
   "cell_type": "code",
   "execution_count": 55,
   "id": "11e25de9-8b4a-4f3c-bf59-87c10a9a9dcf",
   "metadata": {},
   "outputs": [
    {
     "name": "stdout",
     "output_type": "stream",
     "text": [
      "Coupon Paying Bond Duration:  8.54674039279864\n"
     ]
    }
   ],
   "source": [
    "# Find the price of the coupon bond at current yield levels\n",
    "price = -npf.pv(rate=0.03, nper=10, pmt=3, fv=100)\n",
    "\n",
    "# Find the price of the coupon bond at 1% higher yield levels\n",
    "price_up = -npf.pv(rate=0.04, nper=10, pmt=3, fv=100)\n",
    "\n",
    "# Find the price of the coupon bond at 1% lower yield levels\n",
    "price_down = -npf.pv(rate=0.02, nper=10, pmt=3, fv=100)\n",
    "\n",
    "# Calculate duration using the formula\n",
    "duration = (price_down-price_up) / (2*price*0.01)\n",
    "\n",
    "# Print the result\n",
    "print(\"Coupon Paying Bond Duration: \", duration)"
   ]
  },
  {
   "cell_type": "markdown",
   "id": "bf2cdcb5-d219-4705-8ee8-f0bd7c17cfbf",
   "metadata": {},
   "source": [
    "Notice that the addition of coupons changed the duration of the bond from 9.73% in the previous exercise to 8.55% here, meaning that coupon bonds are less sensitive to interest rates than their zero coupon equivalents."
   ]
  },
  {
   "cell_type": "markdown",
   "id": "714d6dbf-8311-4529-953f-34df2179b87b",
   "metadata": {},
   "source": [
    "### Comparing the duration of two bonds directly"
   ]
  },
  {
   "cell_type": "code",
   "execution_count": 58,
   "id": "e03e9461-df57-41df-b927-d93aa865e9c2",
   "metadata": {},
   "outputs": [
    {
     "name": "stdout",
     "output_type": "stream",
     "text": [
      "10 Year Bond:  8.260370518687731\n"
     ]
    }
   ],
   "source": [
    "# Find & print duration of 10 year bond with 3% coupon & 5% yield\n",
    "price_10y = -npf.pv(rate=0.05, nper=10, pmt=3, fv=100)\n",
    "price_up_10y = -npf.pv(rate=0.06, nper=10, pmt=3, fv=100)\n",
    "price_down_10y = -npf.pv(rate=0.04, nper=10, pmt=3, fv=100)\n",
    "duration_10y = (price_down_10y - price_up_10y) / (2 * price_10y * 0.01)\n",
    "print(\"10 Year Bond: \", duration_10y)"
   ]
  },
  {
   "cell_type": "code",
   "execution_count": 59,
   "id": "54e4985e-7dc8-4ebc-975d-cb7aae07cd21",
   "metadata": {},
   "outputs": [
    {
     "name": "stdout",
     "output_type": "stream",
     "text": [
      "20 Year Bond:  13.865652120642753\n"
     ]
    }
   ],
   "source": [
    "# Find & print duration of 20 year bond with 3% coupon & 5% yield\n",
    "price_20y = -npf.pv(rate=0.05, nper=20, pmt=3, fv=100)\n",
    "price_up_20y = -npf.pv(rate=0.06, nper=20, pmt=3, fv=100)\n",
    "price_down_20y = -npf.pv(rate=0.04, nper=20, pmt=3, fv=100)\n",
    "duration_20y = (price_down_20y - price_up_20y) / (2 * price_20y * 0.01)\n",
    "print(\"20 Year Bond: \", duration_20y)"
   ]
  },
  {
   "cell_type": "markdown",
   "id": "7f9f9945-73f3-4535-80d1-efebc90831be",
   "metadata": {},
   "source": [
    " 20 year bond has a higher duration than the 10 year bond"
   ]
  },
  {
   "cell_type": "markdown",
   "id": "309676d4-82cc-415e-850d-712a2458ec37",
   "metadata": {},
   "source": [
    "**longer maturtiy = wait longer = more exposed to interest rate risk = high duration**"
   ]
  },
  {
   "cell_type": "markdown",
   "id": "6c53c381-f551-4631-9557-ccc903121cf2",
   "metadata": {},
   "source": [
    "### Using the steepness of the price/yield line"
   ]
  },
  {
   "cell_type": "code",
   "execution_count": 63,
   "id": "4eb51b49-0586-43c6-9577-e58eb39e84a4",
   "metadata": {},
   "outputs": [
    {
     "data": {
      "text/html": [
       "<div>\n",
       "<style scoped>\n",
       "    .dataframe tbody tr th:only-of-type {\n",
       "        vertical-align: middle;\n",
       "    }\n",
       "\n",
       "    .dataframe tbody tr th {\n",
       "        vertical-align: top;\n",
       "    }\n",
       "\n",
       "    .dataframe thead th {\n",
       "        text-align: right;\n",
       "    }\n",
       "</style>\n",
       "<table border=\"1\" class=\"dataframe\">\n",
       "  <thead>\n",
       "    <tr style=\"text-align: right;\">\n",
       "      <th></th>\n",
       "      <th>bond_yield</th>\n",
       "    </tr>\n",
       "  </thead>\n",
       "  <tbody>\n",
       "    <tr>\n",
       "      <th>0</th>\n",
       "      <td>0.1</td>\n",
       "    </tr>\n",
       "    <tr>\n",
       "      <th>1</th>\n",
       "      <td>0.2</td>\n",
       "    </tr>\n",
       "    <tr>\n",
       "      <th>2</th>\n",
       "      <td>0.3</td>\n",
       "    </tr>\n",
       "    <tr>\n",
       "      <th>3</th>\n",
       "      <td>0.4</td>\n",
       "    </tr>\n",
       "    <tr>\n",
       "      <th>4</th>\n",
       "      <td>0.5</td>\n",
       "    </tr>\n",
       "  </tbody>\n",
       "</table>\n",
       "</div>"
      ],
      "text/plain": [
       "   bond_yield\n",
       "0         0.1\n",
       "1         0.2\n",
       "2         0.3\n",
       "3         0.4\n",
       "4         0.5"
      ]
     },
     "execution_count": 63,
     "metadata": {},
     "output_type": "execute_result"
    }
   ],
   "source": [
    "# Create an array of bond yields\n",
    "bond_yields = np.arange(0.1, 20, 0.1) # cant add 0 bcoz of divide by 0 error\n",
    "\n",
    "# Convert this array into a pandas DataFrame and add column title\n",
    "bond = pd.DataFrame(bond_yields, columns=['bond_yield'])\n",
    "bond.head()"
   ]
  },
  {
   "cell_type": "code",
   "execution_count": 64,
   "id": "e80eecb7-0e26-4843-bbe7-86da2b90add2",
   "metadata": {},
   "outputs": [],
   "source": [
    "# Add bond price column with price varying according to the yield\n",
    "bond['bond_price'] = -npf.pv(rate=bond['bond_yield'] / 100, nper=20, pmt=5, fv=100)"
   ]
  },
  {
   "cell_type": "code",
   "execution_count": 65,
   "id": "2ddefe8a-99f3-4967-93a7-4771c81572a9",
   "metadata": {},
   "outputs": [
    {
     "data": {
      "text/html": [
       "<div>\n",
       "<style scoped>\n",
       "    .dataframe tbody tr th:only-of-type {\n",
       "        vertical-align: middle;\n",
       "    }\n",
       "\n",
       "    .dataframe tbody tr th {\n",
       "        vertical-align: top;\n",
       "    }\n",
       "\n",
       "    .dataframe thead th {\n",
       "        text-align: right;\n",
       "    }\n",
       "</style>\n",
       "<table border=\"1\" class=\"dataframe\">\n",
       "  <thead>\n",
       "    <tr style=\"text-align: right;\">\n",
       "      <th></th>\n",
       "      <th>bond_yield</th>\n",
       "      <th>bond_price</th>\n",
       "    </tr>\n",
       "  </thead>\n",
       "  <tbody>\n",
       "    <tr>\n",
       "      <th>0</th>\n",
       "      <td>0.1</td>\n",
       "      <td>196.978503</td>\n",
       "    </tr>\n",
       "    <tr>\n",
       "      <th>1</th>\n",
       "      <td>0.2</td>\n",
       "      <td>194.013231</td>\n",
       "    </tr>\n",
       "    <tr>\n",
       "      <th>2</th>\n",
       "      <td>0.3</td>\n",
       "      <td>191.103034</td>\n",
       "    </tr>\n",
       "    <tr>\n",
       "      <th>3</th>\n",
       "      <td>0.4</td>\n",
       "      <td>188.246786</td>\n",
       "    </tr>\n",
       "    <tr>\n",
       "      <th>4</th>\n",
       "      <td>0.5</td>\n",
       "      <td>185.443386</td>\n",
       "    </tr>\n",
       "  </tbody>\n",
       "</table>\n",
       "</div>"
      ],
      "text/plain": [
       "   bond_yield  bond_price\n",
       "0         0.1  196.978503\n",
       "1         0.2  194.013231\n",
       "2         0.3  191.103034\n",
       "3         0.4  188.246786\n",
       "4         0.5  185.443386"
      ]
     },
     "execution_count": 65,
     "metadata": {},
     "output_type": "execute_result"
    }
   ],
   "source": [
    "bond.head()"
   ]
  },
  {
   "cell_type": "code",
   "execution_count": 66,
   "id": "3b6b5826-f2e7-48ec-a228-13a651b8941f",
   "metadata": {},
   "outputs": [
    {
     "data": {
      "image/png": "[encoded data removed]",
      "text/plain": [
       "<Figure size 640x480 with 1 Axes>"
      ]
     },
     "metadata": {},
     "output_type": "display_data"
    }
   ],
   "source": [
    "# Plot graph of bond yields against prices, add x-axis and y-axis labels, show plot\n",
    "plt.plot(bond['bond_yield'], bond['bond_price'])\n",
    "plt.xlabel('Yield (%)')\n",
    "plt.ylabel('Bond Price (USD)')\n",
    "plt.show()"
   ]
  },
  {
   "cell_type": "markdown",
   "id": "ebb71072-41ab-431e-99d0-f5b3a15b60e7",
   "metadata": {},
   "source": [
    "By using the slope of the price/yield graph, we can see that low yielding bonds are more sensitive to changes in interest rates than the same bond with a higher yield."
   ]
  },
  {
   "cell_type": "markdown",
   "id": "3b75fc70-8383-49e5-8f21-81202976d091",
   "metadata": {},
   "source": [
    "### Plotting duration vs. the factor"
   ]
  },
  {
   "cell_type": "code",
   "execution_count": 69,
   "id": "cf87614c-aad0-4b06-94c8-9c75bd970689",
   "metadata": {},
   "outputs": [
    {
     "data": {
      "image/png": "[encoded data removed]",
      "text/plain": [
       "<Figure size 640x480 with 1 Axes>"
      ]
     },
     "metadata": {},
     "output_type": "display_data"
    }
   ],
   "source": [
    "# Create array of coupon rates and assign to pandas DataFrame\n",
    "bond_coupon = np.arange(0, 10, 0.1)\n",
    "bond = pd.DataFrame(bond_coupon, columns=['bond_coupon'])\n",
    "\n",
    "# Calculate bond price, price_up, price_down, and duration\n",
    "bond['price'] = -npf.pv(rate=0.05, nper=10, pmt=bond['bond_coupon'], fv=100)\n",
    "bond['price_up'] = -npf.pv(rate=0.05 + 0.01, nper=10, pmt=bond['bond_coupon'], fv=100)\n",
    "bond['price_down'] = -npf.pv(rate=0.05 - 0.01, nper=10, pmt=bond['bond_coupon'], fv=100)\n",
    "bond['duration'] = (bond['price_down'] - bond['price_up']) / (2 * bond['price'] * 0.01)\n",
    "\n",
    "# Plot coupon vs. duration, add labels & title, show plot\n",
    "plt.plot(bond['bond_coupon'], bond['duration'])\n",
    "plt.xlabel('Coupon (%)')\n",
    "plt.ylabel('Duration (%)')\n",
    "plt.show()"
   ]
  },
  {
   "cell_type": "markdown",
   "id": "bf6d23b7-ef43-44af-a974-246ce088f973",
   "metadata": {},
   "source": [
    "increasing the coupon rate decreases the duration of a bond."
   ]
  },
  {
   "cell_type": "markdown",
   "id": "08e62c86-e04e-4f66-9f5a-d6d25052fcd5",
   "metadata": {},
   "source": [
    "### Dollar duration"
   ]
  },
  {
   "cell_type": "markdown",
   "id": "150d184d-3c5d-4c34-9f74-c2ad81fd9163",
   "metadata": {},
   "source": [
    "**Find the dollar duration and DV01 of a bond. The bond has a 30 year maturity, coupon rate of 3.5%, yield to maturity of 5%, and face value of USD 100.**"
   ]
  },
  {
   "cell_type": "code",
   "execution_count": 73,
   "id": "fe9b4c25-4487-404b-b3fb-e0d24bbb96ae",
   "metadata": {},
   "outputs": [
    {
     "name": "stdout",
     "output_type": "stream",
     "text": [
      "Dollar Duration:  12.88303061419567\n",
      "DV01:  0.1288303061419567\n"
     ]
    }
   ],
   "source": [
    "# Find the duration of the bond\n",
    "price = -npf.pv(rate=0.05, nper=30, pmt=3.5, fv=100)\n",
    "price_up = -npf.pv(rate=0.06, nper=30, pmt=3.5, fv=100)\n",
    "price_down = -npf.pv(rate=0.04, nper=30, pmt=3.5, fv=100)\n",
    "duration = (price_down - price_up) / (2 * price * 0.01)\n",
    "\n",
    "# Find the dollar duration of the bond\n",
    "dollar_duration = duration * price * 0.01\n",
    "print(\"Dollar Duration: \", dollar_duration)\n",
    "\n",
    "# Find the DV01 of the bond\n",
    "dv01 = duration * price * 0.0001\n",
    "print(\"DV01: \", dv01)"
   ]
  },
  {
   "cell_type": "markdown",
   "id": "3b04d563-6250-4c35-92b2-dcb8634ccc4b",
   "metadata": {},
   "source": [
    "If you already have the dollar duration, you could also find the DV01 by simply multiplying the dollar duration by 1% since a basis point is 1% of 1%."
   ]
  },
  {
   "cell_type": "markdown",
   "id": "513f6667-16c9-4411-93ef-0ed249472859",
   "metadata": {},
   "source": [
    "### Hedging"
   ]
  },
  {
   "cell_type": "markdown",
   "id": "52bd4a5c-51e4-457c-978e-a09cafb1edb2",
   "metadata": {},
   "source": [
    "Say you own a portfolio of bonds whose combined DV01 is USD 5,000. You decide to hedge this portfolio by selling a fixed amount of the 30 year bond from the previous exercise, which has a price of USD 76.94 and a DV01 of 12.88 cents."
   ]
  },
  {
   "cell_type": "code",
   "execution_count": 77,
   "id": "a4eb0a85-f7c8-47ee-84f1-f6337f01c2f1",
   "metadata": {},
   "outputs": [
    {
     "name": "stdout",
     "output_type": "stream",
     "text": [
      "Number of bonds to sell:  38819.875776397515\n",
      "Dollar amount to sell: USD 2986801.2422360247\n"
     ]
    }
   ],
   "source": [
    "# Assign DV01 of portfolio and bond to variables\n",
    "portfolio_dv01 = 5000\n",
    "bond_dv01 = 0.1288\n",
    "bond_price = 76.94\n",
    "\n",
    "# Calculate quantity of bond to hedge portfolio\n",
    "hedge_quantity = portfolio_dv01 / bond_dv01\n",
    "print(\"Number of bonds to sell: \", hedge_quantity)\n",
    "\n",
    "# Calculate dollar amount of bond to hedge portfolio\n",
    "hedge_amount = hedge_quantity * bond_price\n",
    "print(\"Dollar amount to sell: USD\", hedge_amount)"
   ]
  },
  {
   "cell_type": "markdown",
   "id": "25495e96-c908-419d-9e05-ecd49346d695",
   "metadata": {},
   "source": [
    "On a bond trading desk, traders will often refer to the size of their positions by their DV01 instead of the number or dollar amounts of bonds they have, e.g., I'm long USD 20k of DV01."
   ]
  },
  {
   "cell_type": "markdown",
   "id": "794a14b3-1e46-42d6-9eb7-faef945ae370",
   "metadata": {},
   "source": [
    "### Predicting price impacts from duration"
   ]
  },
  {
   "cell_type": "markdown",
   "id": "94f1132c-32d7-450e-a796-c61c72733688",
   "metadata": {},
   "source": [
    "The bond has a maturity of 5 years, coupon of 7%, yield of 4%, and face value of USD 100. It has a price of USD 113.36 and dollar duration of USD 4.83. Predict the price change for a 2% decrease in interest rates."
   ]
  },
  {
   "cell_type": "code",
   "execution_count": 81,
   "id": "1a31041e-1672-4857-9ffb-4397ee8912fa",
   "metadata": {},
   "outputs": [
    {
     "name": "stdout",
     "output_type": "stream",
     "text": [
      "Predicted Change: USD  9.66\n",
      "Actual Change: USD  10.207297542521033\n",
      "Estimation Error: USD  -0.5472975425210329\n"
     ]
    }
   ],
   "source": [
    "# Assign bond price, dollar duration, yield change to variables\n",
    "bond_price = 113.36\n",
    "dollar_duration = 4.83\n",
    "yield_change = -0.02\n",
    "\n",
    "# Predict bond price change using duration\n",
    "price_prediction = -100 * dollar_duration * yield_change\n",
    "print(\"Predicted Change: USD \", price_prediction)\n",
    "\n",
    "# Find actual price change and compare\n",
    "price_actual = -npf.pv(rate=0.02, nper=5, pmt=7, fv=100) - 113.36\n",
    "print(\"Actual Change: USD \", price_actual)\n",
    "print(\"Estimation Error: USD \", price_prediction - price_actual)"
   ]
  },
  {
   "cell_type": "markdown",
   "id": "ecbb6b5c-81d2-4da9-9cc9-873f6a205af7",
   "metadata": {},
   "source": [
    "## Convexity"
   ]
  },
  {
   "cell_type": "markdown",
   "id": "be8abf6e-1eb4-4acb-ad9f-1173b0678af8",
   "metadata": {},
   "source": [
    "### Predicted vs. actual prices"
   ]
  },
  {
   "cell_type": "markdown",
   "id": "2c799456-0818-46c1-a6fe-37ef109219c3",
   "metadata": {},
   "source": [
    "The bond is a 10 year bond paying an annual coupon of 5% and a yield to maturity of 5%."
   ]
  },
  {
   "cell_type": "markdown",
   "id": "5d5e2b03-0c76-48c9-943d-847821cbc41e",
   "metadata": {},
   "source": [
    "**Find duration and dollar duration of the bond.**"
   ]
  },
  {
   "cell_type": "code",
   "execution_count": 86,
   "id": "371a8df4-34a4-4ba3-ad40-60da3b7168ec",
   "metadata": {},
   "outputs": [],
   "source": [
    "# Price a 10 year bond with 5% coupon and 5% yield, reprice at higher and lower yields\n",
    "price = -npf.pv(fv=100, nper = 10, pmt = 5, rate = 0.05)\n",
    "price_up = -npf.pv(fv=100, nper = 10, pmt = 5, rate = 0.06)\n",
    "price_down = -npf.pv(fv=100, nper = 10, pmt = 5, rate = 0.04)\n",
    "\n",
    "# Find the duration and dollar duration of the bond\n",
    "duration = (price_down-price_up) / (2*price*0.01)\n",
    "dollar_duration = duration * price * 0.01"
   ]
  },
  {
   "cell_type": "code",
   "execution_count": 87,
   "id": "88b8fd6d-187d-4bc9-ad98-d47900b27159",
   "metadata": {},
   "outputs": [
    {
     "name": "stdout",
     "output_type": "stream",
     "text": [
      "100.0\n"
     ]
    }
   ],
   "source": [
    "print(price)"
   ]
  },
  {
   "cell_type": "markdown",
   "id": "866978cc-1927-49b7-85c2-3344bdfc6647",
   "metadata": {},
   "source": [
    "at par"
   ]
  },
  {
   "cell_type": "markdown",
   "id": "abec421c-ec17-43a1-a618-4ed72e8ca26e",
   "metadata": {},
   "source": [
    "**Create yield from 0.1 to 10 w/ steps 0f 0.1**"
   ]
  },
  {
   "cell_type": "code",
   "execution_count": 90,
   "id": "4514c1d2-041e-445a-b120-7e436d3e822d",
   "metadata": {},
   "outputs": [],
   "source": [
    "# Create an array of yields from 0 to 10 in steps of 0.1, convert to DataFrame\n",
    "bond_yields = np.arange(0.1, 10, 0.1)\n",
    "bond = pd.DataFrame(bond_yields, columns=['bond_yield'])"
   ]
  },
  {
   "cell_type": "code",
   "execution_count": 91,
   "id": "bf48f35d-369c-4f52-a62d-5479f2734555",
   "metadata": {},
   "outputs": [
    {
     "data": {
      "text/html": [
       "<div>\n",
       "<style scoped>\n",
       "    .dataframe tbody tr th:only-of-type {\n",
       "        vertical-align: middle;\n",
       "    }\n",
       "\n",
       "    .dataframe tbody tr th {\n",
       "        vertical-align: top;\n",
       "    }\n",
       "\n",
       "    .dataframe thead th {\n",
       "        text-align: right;\n",
       "    }\n",
       "</style>\n",
       "<table border=\"1\" class=\"dataframe\">\n",
       "  <thead>\n",
       "    <tr style=\"text-align: right;\">\n",
       "      <th></th>\n",
       "      <th>bond_yield</th>\n",
       "    </tr>\n",
       "  </thead>\n",
       "  <tbody>\n",
       "    <tr>\n",
       "      <th>0</th>\n",
       "      <td>0.1</td>\n",
       "    </tr>\n",
       "    <tr>\n",
       "      <th>1</th>\n",
       "      <td>0.2</td>\n",
       "    </tr>\n",
       "    <tr>\n",
       "      <th>2</th>\n",
       "      <td>0.3</td>\n",
       "    </tr>\n",
       "    <tr>\n",
       "      <th>3</th>\n",
       "      <td>0.4</td>\n",
       "    </tr>\n",
       "    <tr>\n",
       "      <th>4</th>\n",
       "      <td>0.5</td>\n",
       "    </tr>\n",
       "  </tbody>\n",
       "</table>\n",
       "</div>"
      ],
      "text/plain": [
       "   bond_yield\n",
       "0         0.1\n",
       "1         0.2\n",
       "2         0.3\n",
       "3         0.4\n",
       "4         0.5"
      ]
     },
     "execution_count": 91,
     "metadata": {},
     "output_type": "execute_result"
    }
   ],
   "source": [
    "bond.head()"
   ]
  },
  {
   "cell_type": "markdown",
   "id": "f26ea7b8-1f42-4a5f-a99b-f71055b2f687",
   "metadata": {},
   "source": [
    "**Calculate the bond price for each yield level**"
   ]
  },
  {
   "cell_type": "code",
   "execution_count": 93,
   "id": "3adb9b60-b55a-42f9-a38e-f20b6d2967a9",
   "metadata": {},
   "outputs": [],
   "source": [
    "# Add a column called price with the bond price for each yield level\n",
    "bond['price'] = -npf.pv(rate=bond['bond_yield'] / 100, fv=100, nper=10, pmt=5)"
   ]
  },
  {
   "cell_type": "code",
   "execution_count": 94,
   "id": "9d9052d2-0714-41a4-9713-0ed9cbdb4af9",
   "metadata": {},
   "outputs": [
    {
     "data": {
      "text/html": [
       "<div>\n",
       "<style scoped>\n",
       "    .dataframe tbody tr th:only-of-type {\n",
       "        vertical-align: middle;\n",
       "    }\n",
       "\n",
       "    .dataframe tbody tr th {\n",
       "        vertical-align: top;\n",
       "    }\n",
       "\n",
       "    .dataframe thead th {\n",
       "        text-align: right;\n",
       "    }\n",
       "</style>\n",
       "<table border=\"1\" class=\"dataframe\">\n",
       "  <thead>\n",
       "    <tr style=\"text-align: right;\">\n",
       "      <th></th>\n",
       "      <th>bond_yield</th>\n",
       "      <th>price</th>\n",
       "    </tr>\n",
       "  </thead>\n",
       "  <tbody>\n",
       "    <tr>\n",
       "      <th>0</th>\n",
       "      <td>0.1</td>\n",
       "      <td>148.731575</td>\n",
       "    </tr>\n",
       "    <tr>\n",
       "      <th>1</th>\n",
       "      <td>0.2</td>\n",
       "      <td>147.476197</td>\n",
       "    </tr>\n",
       "    <tr>\n",
       "      <th>2</th>\n",
       "      <td>0.3</td>\n",
       "      <td>146.233716</td>\n",
       "    </tr>\n",
       "    <tr>\n",
       "      <th>3</th>\n",
       "      <td>0.4</td>\n",
       "      <td>145.003984</td>\n",
       "    </tr>\n",
       "    <tr>\n",
       "      <th>4</th>\n",
       "      <td>0.5</td>\n",
       "      <td>143.786853</td>\n",
       "    </tr>\n",
       "  </tbody>\n",
       "</table>\n",
       "</div>"
      ],
      "text/plain": [
       "   bond_yield       price\n",
       "0         0.1  148.731575\n",
       "1         0.2  147.476197\n",
       "2         0.3  146.233716\n",
       "3         0.4  145.003984\n",
       "4         0.5  143.786853"
      ]
     },
     "execution_count": 94,
     "metadata": {},
     "output_type": "execute_result"
    }
   ],
   "source": [
    "bond.head()"
   ]
  },
  {
   "cell_type": "code",
   "execution_count": 95,
   "id": "06c06a81-84d9-47e0-8223-c47a3fd9e15b",
   "metadata": {},
   "outputs": [],
   "source": [
    "# Add a column called yield_change with the current yield minus original yield\n",
    "bond['yield_change'] = (bond['bond_yield'] - 5)\n",
    "\n",
    "# Find the predicted bond price change using dollar duration then find predicted price\n",
    "bond['price_change'] = -100 * dollar_duration * bond['yield_change'] / 100\n",
    "bond['predicted_price'] = price + bond['price_change']"
   ]
  },
  {
   "cell_type": "code",
   "execution_count": 96,
   "id": "bbb3b14c-98d5-45be-bfa4-dbdd12aca7f2",
   "metadata": {},
   "outputs": [
    {
     "data": {
      "text/html": [
       "<div>\n",
       "<style scoped>\n",
       "    .dataframe tbody tr th:only-of-type {\n",
       "        vertical-align: middle;\n",
       "    }\n",
       "\n",
       "    .dataframe tbody tr th {\n",
       "        vertical-align: top;\n",
       "    }\n",
       "\n",
       "    .dataframe thead th {\n",
       "        text-align: right;\n",
       "    }\n",
       "</style>\n",
       "<table border=\"1\" class=\"dataframe\">\n",
       "  <thead>\n",
       "    <tr style=\"text-align: right;\">\n",
       "      <th></th>\n",
       "      <th>bond_yield</th>\n",
       "      <th>price</th>\n",
       "      <th>yield_change</th>\n",
       "      <th>price_change</th>\n",
       "      <th>predicted_price</th>\n",
       "    </tr>\n",
       "  </thead>\n",
       "  <tbody>\n",
       "    <tr>\n",
       "      <th>0</th>\n",
       "      <td>0.1</td>\n",
       "      <td>148.731575</td>\n",
       "      <td>-4.9</td>\n",
       "      <td>37.903908</td>\n",
       "      <td>137.903908</td>\n",
       "    </tr>\n",
       "    <tr>\n",
       "      <th>1</th>\n",
       "      <td>0.2</td>\n",
       "      <td>147.476197</td>\n",
       "      <td>-4.8</td>\n",
       "      <td>37.130359</td>\n",
       "      <td>137.130359</td>\n",
       "    </tr>\n",
       "    <tr>\n",
       "      <th>2</th>\n",
       "      <td>0.3</td>\n",
       "      <td>146.233716</td>\n",
       "      <td>-4.7</td>\n",
       "      <td>36.356810</td>\n",
       "      <td>136.356810</td>\n",
       "    </tr>\n",
       "    <tr>\n",
       "      <th>3</th>\n",
       "      <td>0.4</td>\n",
       "      <td>145.003984</td>\n",
       "      <td>-4.6</td>\n",
       "      <td>35.583261</td>\n",
       "      <td>135.583261</td>\n",
       "    </tr>\n",
       "    <tr>\n",
       "      <th>4</th>\n",
       "      <td>0.5</td>\n",
       "      <td>143.786853</td>\n",
       "      <td>-4.5</td>\n",
       "      <td>34.809711</td>\n",
       "      <td>134.809711</td>\n",
       "    </tr>\n",
       "    <tr>\n",
       "      <th>5</th>\n",
       "      <td>0.6</td>\n",
       "      <td>142.582180</td>\n",
       "      <td>-4.4</td>\n",
       "      <td>34.036162</td>\n",
       "      <td>134.036162</td>\n",
       "    </tr>\n",
       "    <tr>\n",
       "      <th>6</th>\n",
       "      <td>0.7</td>\n",
       "      <td>141.389820</td>\n",
       "      <td>-4.3</td>\n",
       "      <td>33.262613</td>\n",
       "      <td>133.262613</td>\n",
       "    </tr>\n",
       "    <tr>\n",
       "      <th>7</th>\n",
       "      <td>0.8</td>\n",
       "      <td>140.209632</td>\n",
       "      <td>-4.2</td>\n",
       "      <td>32.489064</td>\n",
       "      <td>132.489064</td>\n",
       "    </tr>\n",
       "    <tr>\n",
       "      <th>8</th>\n",
       "      <td>0.9</td>\n",
       "      <td>139.041478</td>\n",
       "      <td>-4.1</td>\n",
       "      <td>31.715515</td>\n",
       "      <td>131.715515</td>\n",
       "    </tr>\n",
       "    <tr>\n",
       "      <th>9</th>\n",
       "      <td>1.0</td>\n",
       "      <td>137.885218</td>\n",
       "      <td>-4.0</td>\n",
       "      <td>30.941966</td>\n",
       "      <td>130.941966</td>\n",
       "    </tr>\n",
       "    <tr>\n",
       "      <th>10</th>\n",
       "      <td>1.1</td>\n",
       "      <td>136.740718</td>\n",
       "      <td>-3.9</td>\n",
       "      <td>30.168417</td>\n",
       "      <td>130.168417</td>\n",
       "    </tr>\n",
       "    <tr>\n",
       "      <th>11</th>\n",
       "      <td>1.2</td>\n",
       "      <td>135.607842</td>\n",
       "      <td>-3.8</td>\n",
       "      <td>29.394867</td>\n",
       "      <td>129.394867</td>\n",
       "    </tr>\n",
       "    <tr>\n",
       "      <th>12</th>\n",
       "      <td>1.3</td>\n",
       "      <td>134.486459</td>\n",
       "      <td>-3.7</td>\n",
       "      <td>28.621318</td>\n",
       "      <td>128.621318</td>\n",
       "    </tr>\n",
       "    <tr>\n",
       "      <th>13</th>\n",
       "      <td>1.4</td>\n",
       "      <td>133.376436</td>\n",
       "      <td>-3.6</td>\n",
       "      <td>27.847769</td>\n",
       "      <td>127.847769</td>\n",
       "    </tr>\n",
       "    <tr>\n",
       "      <th>14</th>\n",
       "      <td>1.5</td>\n",
       "      <td>132.277646</td>\n",
       "      <td>-3.5</td>\n",
       "      <td>27.074220</td>\n",
       "      <td>127.074220</td>\n",
       "    </tr>\n",
       "    <tr>\n",
       "      <th>15</th>\n",
       "      <td>1.6</td>\n",
       "      <td>131.189960</td>\n",
       "      <td>-3.4</td>\n",
       "      <td>26.300671</td>\n",
       "      <td>126.300671</td>\n",
       "    </tr>\n",
       "    <tr>\n",
       "      <th>16</th>\n",
       "      <td>1.7</td>\n",
       "      <td>130.113251</td>\n",
       "      <td>-3.3</td>\n",
       "      <td>25.527122</td>\n",
       "      <td>125.527122</td>\n",
       "    </tr>\n",
       "    <tr>\n",
       "      <th>17</th>\n",
       "      <td>1.8</td>\n",
       "      <td>129.047396</td>\n",
       "      <td>-3.2</td>\n",
       "      <td>24.753573</td>\n",
       "      <td>124.753573</td>\n",
       "    </tr>\n",
       "    <tr>\n",
       "      <th>18</th>\n",
       "      <td>1.9</td>\n",
       "      <td>127.992271</td>\n",
       "      <td>-3.1</td>\n",
       "      <td>23.980023</td>\n",
       "      <td>123.980023</td>\n",
       "    </tr>\n",
       "    <tr>\n",
       "      <th>19</th>\n",
       "      <td>2.0</td>\n",
       "      <td>126.947755</td>\n",
       "      <td>-3.0</td>\n",
       "      <td>23.206474</td>\n",
       "      <td>123.206474</td>\n",
       "    </tr>\n",
       "    <tr>\n",
       "      <th>20</th>\n",
       "      <td>2.1</td>\n",
       "      <td>125.913728</td>\n",
       "      <td>-2.9</td>\n",
       "      <td>22.432925</td>\n",
       "      <td>122.432925</td>\n",
       "    </tr>\n",
       "    <tr>\n",
       "      <th>21</th>\n",
       "      <td>2.2</td>\n",
       "      <td>124.890071</td>\n",
       "      <td>-2.8</td>\n",
       "      <td>21.659376</td>\n",
       "      <td>121.659376</td>\n",
       "    </tr>\n",
       "    <tr>\n",
       "      <th>22</th>\n",
       "      <td>2.3</td>\n",
       "      <td>123.876668</td>\n",
       "      <td>-2.7</td>\n",
       "      <td>20.885827</td>\n",
       "      <td>120.885827</td>\n",
       "    </tr>\n",
       "    <tr>\n",
       "      <th>23</th>\n",
       "      <td>2.4</td>\n",
       "      <td>122.873402</td>\n",
       "      <td>-2.6</td>\n",
       "      <td>20.112278</td>\n",
       "      <td>120.112278</td>\n",
       "    </tr>\n",
       "    <tr>\n",
       "      <th>24</th>\n",
       "      <td>2.5</td>\n",
       "      <td>121.880160</td>\n",
       "      <td>-2.5</td>\n",
       "      <td>19.338729</td>\n",
       "      <td>119.338729</td>\n",
       "    </tr>\n",
       "    <tr>\n",
       "      <th>25</th>\n",
       "      <td>2.6</td>\n",
       "      <td>120.896829</td>\n",
       "      <td>-2.4</td>\n",
       "      <td>18.565179</td>\n",
       "      <td>118.565179</td>\n",
       "    </tr>\n",
       "    <tr>\n",
       "      <th>26</th>\n",
       "      <td>2.7</td>\n",
       "      <td>119.923297</td>\n",
       "      <td>-2.3</td>\n",
       "      <td>17.791630</td>\n",
       "      <td>117.791630</td>\n",
       "    </tr>\n",
       "    <tr>\n",
       "      <th>27</th>\n",
       "      <td>2.8</td>\n",
       "      <td>118.959455</td>\n",
       "      <td>-2.2</td>\n",
       "      <td>17.018081</td>\n",
       "      <td>117.018081</td>\n",
       "    </tr>\n",
       "    <tr>\n",
       "      <th>28</th>\n",
       "      <td>2.9</td>\n",
       "      <td>118.005193</td>\n",
       "      <td>-2.1</td>\n",
       "      <td>16.244532</td>\n",
       "      <td>116.244532</td>\n",
       "    </tr>\n",
       "    <tr>\n",
       "      <th>29</th>\n",
       "      <td>3.0</td>\n",
       "      <td>117.060406</td>\n",
       "      <td>-2.0</td>\n",
       "      <td>15.470983</td>\n",
       "      <td>115.470983</td>\n",
       "    </tr>\n",
       "    <tr>\n",
       "      <th>30</th>\n",
       "      <td>3.1</td>\n",
       "      <td>116.124986</td>\n",
       "      <td>-1.9</td>\n",
       "      <td>14.697434</td>\n",
       "      <td>114.697434</td>\n",
       "    </tr>\n",
       "    <tr>\n",
       "      <th>31</th>\n",
       "      <td>3.2</td>\n",
       "      <td>115.198829</td>\n",
       "      <td>-1.8</td>\n",
       "      <td>13.923885</td>\n",
       "      <td>113.923885</td>\n",
       "    </tr>\n",
       "    <tr>\n",
       "      <th>32</th>\n",
       "      <td>3.3</td>\n",
       "      <td>114.281831</td>\n",
       "      <td>-1.7</td>\n",
       "      <td>13.150335</td>\n",
       "      <td>113.150335</td>\n",
       "    </tr>\n",
       "    <tr>\n",
       "      <th>33</th>\n",
       "      <td>3.4</td>\n",
       "      <td>113.373891</td>\n",
       "      <td>-1.6</td>\n",
       "      <td>12.376786</td>\n",
       "      <td>112.376786</td>\n",
       "    </tr>\n",
       "    <tr>\n",
       "      <th>34</th>\n",
       "      <td>3.5</td>\n",
       "      <td>112.474908</td>\n",
       "      <td>-1.5</td>\n",
       "      <td>11.603237</td>\n",
       "      <td>111.603237</td>\n",
       "    </tr>\n",
       "    <tr>\n",
       "      <th>35</th>\n",
       "      <td>3.6</td>\n",
       "      <td>111.584782</td>\n",
       "      <td>-1.4</td>\n",
       "      <td>10.829688</td>\n",
       "      <td>110.829688</td>\n",
       "    </tr>\n",
       "    <tr>\n",
       "      <th>36</th>\n",
       "      <td>3.7</td>\n",
       "      <td>110.703414</td>\n",
       "      <td>-1.3</td>\n",
       "      <td>10.056139</td>\n",
       "      <td>110.056139</td>\n",
       "    </tr>\n",
       "    <tr>\n",
       "      <th>37</th>\n",
       "      <td>3.8</td>\n",
       "      <td>109.830708</td>\n",
       "      <td>-1.2</td>\n",
       "      <td>9.282590</td>\n",
       "      <td>109.282590</td>\n",
       "    </tr>\n",
       "    <tr>\n",
       "      <th>38</th>\n",
       "      <td>3.9</td>\n",
       "      <td>108.966566</td>\n",
       "      <td>-1.1</td>\n",
       "      <td>8.509041</td>\n",
       "      <td>108.509041</td>\n",
       "    </tr>\n",
       "    <tr>\n",
       "      <th>39</th>\n",
       "      <td>4.0</td>\n",
       "      <td>108.110896</td>\n",
       "      <td>-1.0</td>\n",
       "      <td>7.735491</td>\n",
       "      <td>107.735491</td>\n",
       "    </tr>\n",
       "    <tr>\n",
       "      <th>40</th>\n",
       "      <td>4.1</td>\n",
       "      <td>107.263602</td>\n",
       "      <td>-0.9</td>\n",
       "      <td>6.961942</td>\n",
       "      <td>106.961942</td>\n",
       "    </tr>\n",
       "    <tr>\n",
       "      <th>41</th>\n",
       "      <td>4.2</td>\n",
       "      <td>106.424592</td>\n",
       "      <td>-0.8</td>\n",
       "      <td>6.188393</td>\n",
       "      <td>106.188393</td>\n",
       "    </tr>\n",
       "    <tr>\n",
       "      <th>42</th>\n",
       "      <td>4.3</td>\n",
       "      <td>105.593775</td>\n",
       "      <td>-0.7</td>\n",
       "      <td>5.414844</td>\n",
       "      <td>105.414844</td>\n",
       "    </tr>\n",
       "    <tr>\n",
       "      <th>43</th>\n",
       "      <td>4.4</td>\n",
       "      <td>104.771061</td>\n",
       "      <td>-0.6</td>\n",
       "      <td>4.641295</td>\n",
       "      <td>104.641295</td>\n",
       "    </tr>\n",
       "    <tr>\n",
       "      <th>44</th>\n",
       "      <td>4.5</td>\n",
       "      <td>103.956359</td>\n",
       "      <td>-0.5</td>\n",
       "      <td>3.867746</td>\n",
       "      <td>103.867746</td>\n",
       "    </tr>\n",
       "    <tr>\n",
       "      <th>45</th>\n",
       "      <td>4.6</td>\n",
       "      <td>103.149583</td>\n",
       "      <td>-0.4</td>\n",
       "      <td>3.094197</td>\n",
       "      <td>103.094197</td>\n",
       "    </tr>\n",
       "    <tr>\n",
       "      <th>46</th>\n",
       "      <td>4.7</td>\n",
       "      <td>102.350644</td>\n",
       "      <td>-0.3</td>\n",
       "      <td>2.320647</td>\n",
       "      <td>102.320647</td>\n",
       "    </tr>\n",
       "    <tr>\n",
       "      <th>47</th>\n",
       "      <td>4.8</td>\n",
       "      <td>101.559457</td>\n",
       "      <td>-0.2</td>\n",
       "      <td>1.547098</td>\n",
       "      <td>101.547098</td>\n",
       "    </tr>\n",
       "    <tr>\n",
       "      <th>48</th>\n",
       "      <td>4.9</td>\n",
       "      <td>100.775937</td>\n",
       "      <td>-0.1</td>\n",
       "      <td>0.773549</td>\n",
       "      <td>100.773549</td>\n",
       "    </tr>\n",
       "    <tr>\n",
       "      <th>49</th>\n",
       "      <td>5.0</td>\n",
       "      <td>100.000000</td>\n",
       "      <td>0.0</td>\n",
       "      <td>-0.000000</td>\n",
       "      <td>100.000000</td>\n",
       "    </tr>\n",
       "  </tbody>\n",
       "</table>\n",
       "</div>"
      ],
      "text/plain": [
       "    bond_yield       price  yield_change  price_change  predicted_price\n",
       "0          0.1  148.731575          -4.9     37.903908       137.903908\n",
       "1          0.2  147.476197          -4.8     37.130359       137.130359\n",
       "2          0.3  146.233716          -4.7     36.356810       136.356810\n",
       "3          0.4  145.003984          -4.6     35.583261       135.583261\n",
       "4          0.5  143.786853          -4.5     34.809711       134.809711\n",
       "5          0.6  142.582180          -4.4     34.036162       134.036162\n",
       "6          0.7  141.389820          -4.3     33.262613       133.262613\n",
       "7          0.8  140.209632          -4.2     32.489064       132.489064\n",
       "8          0.9  139.041478          -4.1     31.715515       131.715515\n",
       "9          1.0  137.885218          -4.0     30.941966       130.941966\n",
       "10         1.1  136.740718          -3.9     30.168417       130.168417\n",
       "11         1.2  135.607842          -3.8     29.394867       129.394867\n",
       "12         1.3  134.486459          -3.7     28.621318       128.621318\n",
       "13         1.4  133.376436          -3.6     27.847769       127.847769\n",
       "14         1.5  132.277646          -3.5     27.074220       127.074220\n",
       "15         1.6  131.189960          -3.4     26.300671       126.300671\n",
       "16         1.7  130.113251          -3.3     25.527122       125.527122\n",
       "17         1.8  129.047396          -3.2     24.753573       124.753573\n",
       "18         1.9  127.992271          -3.1     23.980023       123.980023\n",
       "19         2.0  126.947755          -3.0     23.206474       123.206474\n",
       "20         2.1  125.913728          -2.9     22.432925       122.432925\n",
       "21         2.2  124.890071          -2.8     21.659376       121.659376\n",
       "22         2.3  123.876668          -2.7     20.885827       120.885827\n",
       "23         2.4  122.873402          -2.6     20.112278       120.112278\n",
       "24         2.5  121.880160          -2.5     19.338729       119.338729\n",
       "25         2.6  120.896829          -2.4     18.565179       118.565179\n",
       "26         2.7  119.923297          -2.3     17.791630       117.791630\n",
       "27         2.8  118.959455          -2.2     17.018081       117.018081\n",
       "28         2.9  118.005193          -2.1     16.244532       116.244532\n",
       "29         3.0  117.060406          -2.0     15.470983       115.470983\n",
       "30         3.1  116.124986          -1.9     14.697434       114.697434\n",
       "31         3.2  115.198829          -1.8     13.923885       113.923885\n",
       "32         3.3  114.281831          -1.7     13.150335       113.150335\n",
       "33         3.4  113.373891          -1.6     12.376786       112.376786\n",
       "34         3.5  112.474908          -1.5     11.603237       111.603237\n",
       "35         3.6  111.584782          -1.4     10.829688       110.829688\n",
       "36         3.7  110.703414          -1.3     10.056139       110.056139\n",
       "37         3.8  109.830708          -1.2      9.282590       109.282590\n",
       "38         3.9  108.966566          -1.1      8.509041       108.509041\n",
       "39         4.0  108.110896          -1.0      7.735491       107.735491\n",
       "40         4.1  107.263602          -0.9      6.961942       106.961942\n",
       "41         4.2  106.424592          -0.8      6.188393       106.188393\n",
       "42         4.3  105.593775          -0.7      5.414844       105.414844\n",
       "43         4.4  104.771061          -0.6      4.641295       104.641295\n",
       "44         4.5  103.956359          -0.5      3.867746       103.867746\n",
       "45         4.6  103.149583          -0.4      3.094197       103.094197\n",
       "46         4.7  102.350644          -0.3      2.320647       102.320647\n",
       "47         4.8  101.559457          -0.2      1.547098       101.547098\n",
       "48         4.9  100.775937          -0.1      0.773549       100.773549\n",
       "49         5.0  100.000000           0.0     -0.000000       100.000000"
      ]
     },
     "execution_count": 96,
     "metadata": {},
     "output_type": "execute_result"
    }
   ],
   "source": [
    "bond.head(50)"
   ]
  },
  {
   "cell_type": "markdown",
   "id": "8f7e0995-195a-4ddb-b7c4-7ce22f6cc9ef",
   "metadata": {},
   "source": [
    "### Plot bond yields against predicted and actual prices"
   ]
  },
  {
   "cell_type": "code",
   "execution_count": 98,
   "id": "f235f287-39c8-435e-9a1b-c63fc9a276d3",
   "metadata": {},
   "outputs": [
    {
     "data": {
      "image/png": "[encoded data removed]",
      "text/plain": [
       "<Figure size 640x480 with 1 Axes>"
      ]
     },
     "metadata": {},
     "output_type": "display_data"
    }
   ],
   "source": [
    "# Plot bond yields against predicted and actual prices, add labels, legend, and display\n",
    "plt.plot(bond['bond_yield'], bond['price'])\n",
    "plt.plot(bond['bond_yield'], bond['predicted_price'])\n",
    "plt.xlabel('Yield (%)')\n",
    "plt.ylabel('Price (USD)')\n",
    "plt.legend([\"Actual Price\", \"Predicted Price\"])\n",
    "plt.show()"
   ]
  },
  {
   "cell_type": "markdown",
   "id": "8778c53d-b554-43e0-ba0f-0b3d11047728",
   "metadata": {},
   "source": [
    " **duration is an accurate estimator of bond prices for small changes in yields**"
   ]
  },
  {
   "cell_type": "markdown",
   "id": "9ef1070f-d699-4b2e-aae4-ef1d1630c368",
   "metadata": {},
   "source": [
    "### Finding the convexity of a bond"
   ]
  },
  {
   "cell_type": "markdown",
   "id": "61c1c340-b520-4b10-bdeb-53b0e8f582c6",
   "metadata": {},
   "source": [
    "Find the convexity of a 20 year bond that pays a 6% annual coupon, has a yield to maturity of 5%, and face value of USD 100."
   ]
  },
  {
   "cell_type": "code",
   "execution_count": 102,
   "id": "fbd8e142-2121-4156-ab63-94f2a99e7af2",
   "metadata": {},
   "outputs": [
    {
     "name": "stdout",
     "output_type": "stream",
     "text": [
      "Convexity:  200.6213463156488\n"
     ]
    }
   ],
   "source": [
    "# Find the price of a 20 year bond with 6% coupon and 5% yield\n",
    "price = -npf.pv(rate=0.05, fv=100, nper=20, pmt=6)\n",
    "\n",
    "# Find the price of the same bond for a 1% higher and 1% lower level of yields\n",
    "price_up = -npf.pv(rate=0.06, fv=100, nper=20, pmt=6)\n",
    "price_down = -npf.pv(rate=0.04, fv=100, nper=20, pmt=6)\n",
    "\n",
    "# Find the convexity of the bond and print the result\n",
    "convexity = (price_down+price_up-2*price)/(price*0.01**2)\n",
    "print(\"Convexity: \", convexity)"
   ]
  },
  {
   "cell_type": "markdown",
   "id": "96f1a31f-833a-4ef6-9c85-b73eeb42ffd0",
   "metadata": {},
   "source": [
    "## Factors affecting convexity"
   ]
  },
  {
   "cell_type": "markdown",
   "id": "36b0ba66-9790-4971-8308-3b63b2cb67ce",
   "metadata": {},
   "source": [
    "### Comparing the convexity of two bonds directly for different **coupons**"
   ]
  },
  {
   "cell_type": "markdown",
   "id": "479c5383-5cbc-45da-a20e-58890c60a372",
   "metadata": {},
   "source": [
    "Find the convexity of two bonds; both will be 5 year bonds with a yield of 3% and face value of USD 100, but the first bond will pay a 1% coupon and the second bond will pay a 10% coupon."
   ]
  },
  {
   "cell_type": "code",
   "execution_count": 106,
   "id": "af1497fc-bf67-4412-93bb-bf6f245114bd",
   "metadata": {},
   "outputs": [
    {
     "name": "stdout",
     "output_type": "stream",
     "text": [
      "Low Coupon Bond Convexity:  27.509977561710695\n"
     ]
    }
   ],
   "source": [
    "# Find the price of a 5 year bond with 3% yield and 1% coupon\n",
    "price_1 = -npf.pv(fv=100, nper =5, pmt=1, rate=0.03)\n",
    "\n",
    "# Shift yields up and down 1% and reprice\n",
    "price_up_1 = -npf.pv(fv=100, nper =5, pmt=1, rate=0.04)\n",
    "price_down_1 = -npf.pv(fv=100, nper =5, pmt=1, rate=0.02)\n",
    "\n",
    "# Find convexity of the bond and print the result\n",
    "convexity_1 = (price_down_1+price_up_1-2*price_1)/(price_1*0.01**2)\n",
    "print(\"Low Coupon Bond Convexity: \", convexity_1)"
   ]
  },
  {
   "cell_type": "code",
   "execution_count": 107,
   "id": "827cb79a-aea6-41f6-9ccf-9dde656b4b91",
   "metadata": {},
   "outputs": [
    {
     "name": "stdout",
     "output_type": "stream",
     "text": [
      "High Coupon Bond Convexity:  22.922469468592325\n"
     ]
    }
   ],
   "source": [
    "# Find the price of a 5 year bond with 3% yield and 10% coupon\n",
    "price_2 = -npf.pv(fv=100, nper =5, pmt=10, rate=0.03)\n",
    "\n",
    "# Shift yields up and down 1% and reprice\n",
    "price_up_2 = -npf.pv(fv=100, nper =5, pmt=10, rate=0.04)\n",
    "price_down_2 = -npf.pv(fv=100, nper =5, pmt=10, rate=0.02)\n",
    "\n",
    "# Find convexity of the bond and print the result\n",
    "convexity_2 = (price_down_2+price_up_2-2*price_2)/(price_2*0.01**2)\n",
    "print(\"High Coupon Bond Convexity: \", convexity_2)"
   ]
  },
  {
   "cell_type": "markdown",
   "id": "7a643cfe-cca7-44f9-9f20-67bdf82f2c7e",
   "metadata": {},
   "source": [
    "**the bond with the lower coupon had a higher level of convexity.**"
   ]
  },
  {
   "cell_type": "markdown",
   "id": "9ef3bb7b-0f51-4016-91cd-33e7d739d1cd",
   "metadata": {},
   "source": [
    "### Using the curvature of the price/yield line for different **maturities**"
   ]
  },
  {
   "cell_type": "code",
   "execution_count": 110,
   "id": "0441d71f-2670-46e0-ac80-64e70bf1ad51",
   "metadata": {},
   "outputs": [],
   "source": [
    "# Create array of yields and convert to pandas DataFrame\n",
    "bond_yields = np.arange(0, 20, 0.1)\n",
    "bond = pd.DataFrame(bond_yields, columns=['bond_yield'])"
   ]
  },
  {
   "cell_type": "code",
   "execution_count": 111,
   "id": "ca4abab6-5713-4811-90c8-c78348734ffa",
   "metadata": {},
   "outputs": [
    {
     "name": "stderr",
     "output_type": "stream",
     "text": [
      "D:\\Users\\sujay\\Lib\\site-packages\\numpy_financial\\_financial.py:531: RuntimeWarning: invalid value encountered in divide\n",
      "  fact = np.where(rate == 0, nper, (1+rate*when)*(temp-1)/rate)\n",
      "D:\\Users\\sujay\\Lib\\site-packages\\numpy_financial\\_financial.py:531: RuntimeWarning: invalid value encountered in divide\n",
      "  fact = np.where(rate == 0, nper, (1+rate*when)*(temp-1)/rate)\n"
     ]
    }
   ],
   "source": [
    "# Add columns for 5 year and 20 year bonds\n",
    "bond['price_5y'] = -npf.pv(rate=bond['bond_yield'] / 100, nper=5, pmt=5, fv=100)\n",
    "bond['price_20y'] = -npf.pv(rate=bond['bond_yield'] / 100, nper=20, pmt=5, fv=100)"
   ]
  },
  {
   "cell_type": "code",
   "execution_count": 112,
   "id": "0d1c264f-0d64-4dd4-b2dc-8e2ad105cbe3",
   "metadata": {},
   "outputs": [
    {
     "data": {
      "text/html": [
       "<div>\n",
       "<style scoped>\n",
       "    .dataframe tbody tr th:only-of-type {\n",
       "        vertical-align: middle;\n",
       "    }\n",
       "\n",
       "    .dataframe tbody tr th {\n",
       "        vertical-align: top;\n",
       "    }\n",
       "\n",
       "    .dataframe thead th {\n",
       "        text-align: right;\n",
       "    }\n",
       "</style>\n",
       "<table border=\"1\" class=\"dataframe\">\n",
       "  <thead>\n",
       "    <tr style=\"text-align: right;\">\n",
       "      <th></th>\n",
       "      <th>bond_yield</th>\n",
       "      <th>price_5y</th>\n",
       "      <th>price_20y</th>\n",
       "    </tr>\n",
       "  </thead>\n",
       "  <tbody>\n",
       "    <tr>\n",
       "      <th>0</th>\n",
       "      <td>0.0</td>\n",
       "      <td>125.000000</td>\n",
       "      <td>200.000000</td>\n",
       "    </tr>\n",
       "    <tr>\n",
       "      <th>1</th>\n",
       "      <td>0.1</td>\n",
       "      <td>124.426671</td>\n",
       "      <td>196.978503</td>\n",
       "    </tr>\n",
       "    <tr>\n",
       "      <th>2</th>\n",
       "      <td>0.2</td>\n",
       "      <td>123.856669</td>\n",
       "      <td>194.013231</td>\n",
       "    </tr>\n",
       "    <tr>\n",
       "      <th>3</th>\n",
       "      <td>0.3</td>\n",
       "      <td>123.289972</td>\n",
       "      <td>191.103034</td>\n",
       "    </tr>\n",
       "    <tr>\n",
       "      <th>4</th>\n",
       "      <td>0.4</td>\n",
       "      <td>122.726556</td>\n",
       "      <td>188.246786</td>\n",
       "    </tr>\n",
       "  </tbody>\n",
       "</table>\n",
       "</div>"
      ],
      "text/plain": [
       "   bond_yield    price_5y   price_20y\n",
       "0         0.0  125.000000  200.000000\n",
       "1         0.1  124.426671  196.978503\n",
       "2         0.2  123.856669  194.013231\n",
       "3         0.3  123.289972  191.103034\n",
       "4         0.4  122.726556  188.246786"
      ]
     },
     "execution_count": 112,
     "metadata": {},
     "output_type": "execute_result"
    }
   ],
   "source": [
    "bond.head()"
   ]
  },
  {
   "cell_type": "code",
   "execution_count": 113,
   "id": "07f589ef-93c7-4350-9c04-17cffdab0cad",
   "metadata": {},
   "outputs": [
    {
     "data": {
      "image/png": "[encoded data removed]",
      "text/plain": [
       "<Figure size 640x480 with 1 Axes>"
      ]
     },
     "metadata": {},
     "output_type": "display_data"
    }
   ],
   "source": [
    "# Create plot for bond bonds, add labels to axes, legend, and display\n",
    "plt.plot(bond['bond_yield'], bond['price_5y'])\n",
    "plt.plot(bond['bond_yield'], bond['price_20y'])\n",
    "plt.xlabel('Yield (%)')\n",
    "plt.ylabel('Price (USD)')\n",
    "plt.legend([\"price_5y\", \"price_20y\"])\n",
    "plt.show()"
   ]
  },
  {
   "cell_type": "markdown",
   "id": "98da0d2b-19b4-43ac-857f-233863256333",
   "metadata": {},
   "source": [
    "**the bond with the higher maturity shows a much more curved price/yield relationship and therefore has a higher convexity.**"
   ]
  },
  {
   "cell_type": "code",
   "execution_count": 115,
   "id": "c75645eb-7e38-4d90-8d78-84a7bf1b9fff",
   "metadata": {},
   "outputs": [
    {
     "name": "stderr",
     "output_type": "stream",
     "text": [
      "D:\\Users\\sujay\\Lib\\site-packages\\numpy_financial\\_financial.py:531: RuntimeWarning: invalid value encountered in divide\n",
      "  fact = np.where(rate == 0, nper, (1+rate*when)*(temp-1)/rate)\n",
      "D:\\Users\\sujay\\Lib\\site-packages\\numpy_financial\\_financial.py:531: RuntimeWarning: invalid value encountered in divide\n",
      "  fact = np.where(rate == 0, nper, (1+rate*when)*(temp-1)/rate)\n"
     ]
    },
    {
     "data": {
      "image/png": "[encoded data removed]",
      "text/plain": [
       "<Figure size 640x480 with 1 Axes>"
      ]
     },
     "metadata": {},
     "output_type": "display_data"
    }
   ],
   "source": [
    "# Create array of bond yields and covert to pandas DataFrame\n",
    "bond_yields = np.arange(0, 20, 0.1)\n",
    "bond = pd.DataFrame(bond_yields, columns=['bond_yield'])\n",
    "\n",
    "# Find price of bond, reprice for higher and lower yields just to calculate convexity\n",
    "bond['price'] = -npf.pv(rate=bond['bond_yield'] / 100, nper=20, pmt=6, fv=100)\n",
    "bond['price_up'] = -npf.pv(rate=bond['bond_yield'] / 100 + 0.01, nper=20, pmt=6, fv=100)\n",
    "bond['price_down'] = -npf.pv(rate=bond['bond_yield'] / 100 - 0.01, nper=20, pmt=6, fv=100)\n",
    "bond['convexity'] = (bond['price_down'] + bond['price_up'] - 2 * bond['price']) / (bond['price'] * 0.01 ** 2)\n",
    "\n",
    "# Create plot of bond yields against convexity, add labels to axes, display plot\n",
    "plt.plot(bond['bond_yield'], bond['convexity'])\n",
    "plt.xlabel('Yield (%)')\n",
    "plt.ylabel('Convexity')\n",
    "plt.show()"
   ]
  },
  {
   "cell_type": "markdown",
   "id": "5f025e78-ee33-4281-b2aa-b30010cd2e5b",
   "metadata": {},
   "source": [
    "**bonds with lower yields have higher convexity**"
   ]
  },
  {
   "cell_type": "code",
   "execution_count": 117,
   "id": "7e2248a5-a0a6-4c07-94d7-757f9ba0c827",
   "metadata": {},
   "outputs": [
    {
     "data": {
      "text/html": [
       "<div>\n",
       "<style scoped>\n",
       "    .dataframe tbody tr th:only-of-type {\n",
       "        vertical-align: middle;\n",
       "    }\n",
       "\n",
       "    .dataframe tbody tr th {\n",
       "        vertical-align: top;\n",
       "    }\n",
       "\n",
       "    .dataframe thead th {\n",
       "        text-align: right;\n",
       "    }\n",
       "</style>\n",
       "<table border=\"1\" class=\"dataframe\">\n",
       "  <thead>\n",
       "    <tr style=\"text-align: right;\">\n",
       "      <th></th>\n",
       "      <th>bond_yield</th>\n",
       "      <th>price</th>\n",
       "      <th>price_up</th>\n",
       "      <th>price_down</th>\n",
       "      <th>convexity</th>\n",
       "    </tr>\n",
       "  </thead>\n",
       "  <tbody>\n",
       "    <tr>\n",
       "      <th>0</th>\n",
       "      <td>0.0</td>\n",
       "      <td>220.000000</td>\n",
       "      <td>190.227765</td>\n",
       "      <td>255.843089</td>\n",
       "      <td>275.947902</td>\n",
       "    </tr>\n",
       "    <tr>\n",
       "      <th>1</th>\n",
       "      <td>0.1</td>\n",
       "      <td>216.770034</td>\n",
       "      <td>187.539230</td>\n",
       "      <td>251.948246</td>\n",
       "      <td>274.364858</td>\n",
       "    </tr>\n",
       "    <tr>\n",
       "      <th>2</th>\n",
       "      <td>0.2</td>\n",
       "      <td>213.599321</td>\n",
       "      <td>184.899029</td>\n",
       "      <td>248.126262</td>\n",
       "      <td>272.784068</td>\n",
       "    </tr>\n",
       "    <tr>\n",
       "      <th>3</th>\n",
       "      <td>0.3</td>\n",
       "      <td>210.486659</td>\n",
       "      <td>182.306197</td>\n",
       "      <td>244.375636</td>\n",
       "      <td>271.205583</td>\n",
       "    </tr>\n",
       "    <tr>\n",
       "      <th>4</th>\n",
       "      <td>0.4</td>\n",
       "      <td>207.430870</td>\n",
       "      <td>179.759787</td>\n",
       "      <td>240.694901</td>\n",
       "      <td>269.629454</td>\n",
       "    </tr>\n",
       "  </tbody>\n",
       "</table>\n",
       "</div>"
      ],
      "text/plain": [
       "   bond_yield       price    price_up  price_down   convexity\n",
       "0         0.0  220.000000  190.227765  255.843089  275.947902\n",
       "1         0.1  216.770034  187.539230  251.948246  274.364858\n",
       "2         0.2  213.599321  184.899029  248.126262  272.784068\n",
       "3         0.3  210.486659  182.306197  244.375636  271.205583\n",
       "4         0.4  207.430870  179.759787  240.694901  269.629454"
      ]
     },
     "execution_count": 117,
     "metadata": {},
     "output_type": "execute_result"
    }
   ],
   "source": [
    "bond.head()"
   ]
  },
  {
   "cell_type": "markdown",
   "id": "68b88325-e019-43bc-b32d-31800337dc64",
   "metadata": {},
   "source": [
    "### Dollar convexity and bond price prediction"
   ]
  },
  {
   "cell_type": "markdown",
   "id": "5a800d69-c0c1-459f-beaa-820f10be7565",
   "metadata": {},
   "source": [
    "#### Dollar convexity"
   ]
  },
  {
   "cell_type": "markdown",
   "id": "b92e44f6-d4e0-4188-9058-a3ae52967e66",
   "metadata": {},
   "source": [
    "**Find the dollar convexity of a 10 year bond with a 2% annual coupon and 3% yield and print the result.**"
   ]
  },
  {
   "cell_type": "code",
   "execution_count": 121,
   "id": "506c6493-888b-4999-9865-6c0a612c3ef1",
   "metadata": {},
   "outputs": [],
   "source": [
    "# Find price of a 10 year bond with 2% coupon and 3% yield, shift yields, and reprice\n",
    "price = -npf.pv(fv=100, nper = 10, pmt = 2, rate = 0.03)\n",
    "price_up = -npf.pv(fv=100, nper = 10, pmt = 2, rate = 0.04)\n",
    "price_down = -npf.pv(fv=100, nper = 10, pmt = 2, rate = 0.02)\n",
    "\n",
    "# Calculate convexity of the bond\n",
    "convexity = (price_down+price_up-2*price)/(price*0.01**2)"
   ]
  },
  {
   "cell_type": "code",
   "execution_count": 122,
   "id": "82231e9a-c5b7-4b9d-b4ac-f1ba1882ad11",
   "metadata": {},
   "outputs": [
    {
     "name": "stdout",
     "output_type": "stream",
     "text": [
      "Dollar convexity:  0.8386141148415902\n"
     ]
    }
   ],
   "source": [
    "# Calculate dollar convexity and print the result\n",
    "dollar_convexity = convexity*price*0.01**2\n",
    "print(\"Dollar convexity: \", dollar_convexity)"
   ]
  },
  {
   "cell_type": "markdown",
   "id": "2a5f67a0-0936-48e9-9d02-bf3d9eefa6ec",
   "metadata": {},
   "source": [
    "This means that for a 1% change in yields, the dollar duration will change by just under 84 cents"
   ]
  },
  {
   "cell_type": "code",
   "execution_count": 124,
   "id": "02c1b093-790e-4fd6-ad6f-15d4bfeff3c9",
   "metadata": {},
   "outputs": [
    {
     "name": "stdout",
     "output_type": "stream",
     "text": [
      "Convexity adjustment:  0.3066219329699109\n"
     ]
    }
   ],
   "source": [
    "# Find price of 10 year zero coupon bond with a 5% yield, shift yields, and reprice\n",
    "price = -npf.pv(fv=100, nper=10, pmt=0, rate=0.05)\n",
    "price_up = -npf.pv(fv=100, nper=10, pmt=0, rate=0.06)\n",
    "price_down = -npf.pv(fv=100, nper=10, pmt=0, rate=0.04)\n",
    "\n",
    "# Calculate convexity and dollar convexity of the bond\n",
    "convexity = (price_down+price_up-2*price)/(price *0.01**2)\n",
    "dollar_convexity = convexity *price *0.01**2\n",
    "\n",
    "# Find the convexity adjustment and print the result\n",
    "convexity_adjustment = 0.5 *dollar_convexity *100**2 *0.01**2\n",
    "print(\"Convexity adjustment: \", convexity_adjustment)"
   ]
  },
  {
   "cell_type": "markdown",
   "id": "df7434ab-991a-4218-8ac0-9bc6d2f1da26",
   "metadata": {},
   "source": [
    "### Combining duration and convexity"
   ]
  },
  {
   "cell_type": "markdown",
   "id": "14cfe9ad-f7e4-4e03-a659-3f5642bd8e47",
   "metadata": {},
   "source": [
    "Take a 7 year bond that pays an annual coupon of 3% and has a yield to maturity of 4%."
   ]
  },
  {
   "cell_type": "code",
   "execution_count": 127,
   "id": "3c3d17b7-0dd8-4452-876c-6c6bee98875f",
   "metadata": {},
   "outputs": [],
   "source": [
    "# Find the price of 7 year bond with 3% coupon and 4% yield, shift yields and reprice\n",
    "price = -npf.pv(fv=100, nper=7, pmt = 3, rate = 0.04)\n",
    "price_up = -npf.pv(fv=100, nper=7, pmt = 3, rate = 0.05)\n",
    "price_down = -npf.pv(fv=100, nper=7, pmt = 3, rate = 0.03)"
   ]
  },
  {
   "cell_type": "code",
   "execution_count": 128,
   "id": "4792869c-f7d0-4e07-aca8-bf4d18404eba",
   "metadata": {},
   "outputs": [],
   "source": [
    "# Find duration and dollar duration of the bond\n",
    "duration = (price_down - price_up) / (2 * price * 0.01)\n",
    "dollar_duration = duration * price * 0.01"
   ]
  },
  {
   "cell_type": "code",
   "execution_count": 129,
   "id": "5946eb8a-52fe-4fb8-82b9-80feb45e53d7",
   "metadata": {},
   "outputs": [],
   "source": [
    "# Find convexity, dollar convexity and convexity adjustment\n",
    "convexity = (price_down+price_up-2*price)/(price *0.01**2)\n",
    "dollar_convexity = convexity *price *0.01**2\n",
    "convexity_adjustment = 0.5 *dollar_convexity *100**2 *0.01**2"
   ]
  },
  {
   "cell_type": "code",
   "execution_count": 130,
   "id": "8291bc09-7770-450d-a00a-da8eedc05cb9",
   "metadata": {},
   "outputs": [
    {
     "name": "stdout",
     "output_type": "stream",
     "text": [
      "Predicted Price Change:  -5.5706921248467305\n"
     ]
    }
   ],
   "source": [
    "# Combine duration and convexity to predict bond price change\n",
    "combined_prediction = -100*dollar_duration*0.01 + convexity_adjustment\n",
    "print(\"Predicted Price Change: \", combined_prediction)"
   ]
  },
  {
   "cell_type": "markdown",
   "id": "b2613858-19cd-408c-8ae5-47a48c7ff5da",
   "metadata": {},
   "source": [
    "The prediction for bond price changes using both duration and convexity will be significantly more accurate. This is because the convexity adjustment will help capture the curvature of the bond price/yield relationship."
   ]
  },
  {
   "cell_type": "code",
   "execution_count": null,
   "id": "5ae13794-c621-4fc7-946b-518f729a944a",
   "metadata": {},
   "outputs": [],
   "source": []
  }
 ],
 "metadata": {
  "kernelspec": {
   "display_name": "Python 3 (ipykernel)",
   "language": "python",
   "name": "python3"
  },
  "language_info": {
   "codemirror_mode": {
    "name": "ipython",
    "version": 3
   },
   "file_extension": ".py",
   "mimetype": "text/x-python",
   "name": "python",
   "nbconvert_exporter": "python",
   "pygments_lexer": "ipython3",
   "version": "3.11.7"
  },
  "widgets": {
   "application/vnd.jupyter.widget-state+json": {
    "state": {},
    "version_major": 2,
    "version_minor": 0
   }
  }
 },
 "nbformat": 4,
 "nbformat_minor": 5
}
